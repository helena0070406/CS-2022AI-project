{
  "cells": [
    {
      "cell_type": "markdown",
      "source": [
        "# **Practical session on Transfer Learning**\n",
        "This Pratical session proposes to study several techniques for improving challenging context, in which few data and resources are available."
      ],
      "metadata": {
        "id": "4jVkOWmgFT1p"
      }
    },
    {
      "cell_type": "markdown",
      "metadata": {
        "id": "QLKnIngy_2hg"
      },
      "source": [
        "# Introduction\n",
        "\n",
        "**Context :**\n",
        "\n",
        "Assume we are in a context where few \"gold\" labeled data are available for training, say \n",
        "\n",
        "$$\\mathcal{X}_{\\text{train}} = \\{(x_n,y_n)\\}_{n\\leq N_{\\text{train}}}$$\n",
        "\n",
        "where $N_{\\text{train}}$ is small. \n",
        "\n",
        "A large test set $\\mathcal{X}_{\\text{test}}$ as well as a large amount of unlabeled data, $\\mathcal{X}$, is available. We also assume that we have a limited computational budget (e.g., no GPUs).\n",
        "\n",
        "**Instructions to follow :** \n",
        "\n",
        "For each question, write a commented *Code* or a complete answer as a *Markdown*. When the objective of a question is to report a CNN accuracy, please use the following format to report it, at the end of the question :\n",
        "\n",
        "| Model | Number of  epochs  | Train accuracy | Test accuracy |\n",
        "|------|------|------|------|\n",
        "|   XXX  | XXX | XXX | XXX |\n",
        "\n",
        "If applicable, please add the field corresponding to the  __Accuracy on Full Data__ as well as a link to the __Reference paper__ you used to report those numbers. (You do not need to train a CNN on the full CIFAR10 dataset!)\n",
        "\n",
        "In your final report, please *keep the logs of each training procedure* you used. We will only run this jupyter if we have some doubts on your implementation. \n",
        "\n",
        "The total file sizes should be reasonable (feasible with 2MB only!). You will be asked to hand in the notebook, together with any necessary files required to run it if any.\n",
        "\n",
        "You can use https://colab.research.google.com/ to run your experiments."
      ]
    },
    {
      "cell_type": "markdown",
      "metadata": {
        "id": "YmTCQPSh_2hg"
      },
      "source": [
        "## Training set creation\n",
        "__Question 1 (2 points) :__ Propose a dataloader to obtain a training loader that will only use the first 100 samples of the CIFAR-10 training set.\n",
        "\n",
        "Additional information :  \n",
        "\n",
        "*   CIFAR10 dataset : https://en.wikipedia.org/wiki/CIFAR-10\n",
        "*   You can directly use the dataloader framework from Pytorch.\n",
        "*   Alternatively you can modify the file : https://github.com/pytorch/vision/blob/master/torchvision/datasets/cifar.py"
      ]
    },
    {
      "cell_type": "code",
      "execution_count": null,
      "metadata": {
        "id": "uZkC5IxR_2hh",
        "colab": {
          "base_uri": "https://localhost:8080/"
        },
        "outputId": "b718b2bc-846f-4db5-d12d-4d1b47b132c2"
      },
      "outputs": [
        {
          "output_type": "stream",
          "name": "stdout",
          "text": [
            "Files already downloaded and verified\n",
            "Files already downloaded and verified\n"
          ]
        }
      ],
      "source": [
        "import torchvision\n",
        "import torchvision.transforms as transforms\n",
        "import torch.nn as nn\n",
        "import torch.optim as optim\n",
        "from torchvision import datasets\n",
        "import torch\n",
        "# Define transforms for the dataset\n",
        "transform_train = transforms.Compose([\n",
        "    transforms.RandomCrop(32, padding=4),\n",
        "    transforms.RandomHorizontalFlip(),\n",
        "    transforms.ToTensor(),\n",
        "    transforms.Normalize((0.5, 0.5, 0.5), (0.5, 0.5, 0.5))\n",
        "])\n",
        "\n",
        "transform_test = transforms.Compose([\n",
        "    transforms.ToTensor(),\n",
        "    transforms.Normalize((0.5, 0.5, 0.5), (0.5, 0.5, 0.5))\n",
        "])\n",
        "\n",
        "train_dataset = datasets.CIFAR10(root='./data', train=True, download=True, transform=transform_train) # Data augmentation is only done on training images\n",
        "first_indices = list(range(100))\n",
        "Xtrain = torch.utils.data.Subset(train_dataset, first_indices)\n",
        "Xtrain_loader = torch.utils.data.DataLoader(Xtrain, batch_size=10, shuffle=True)\n",
        "\n",
        "second_indices = list(range(100, len(train_dataset)))\n",
        "X = torch.utils.data.Subset(train_dataset, second_indices)\n",
        "X_loader = torch.utils.data.DataLoader(X, batch_size=10, shuffle=True)\n",
        "\n",
        "test_dataset = datasets.CIFAR10(root='./data', train=False, download=True, transform=transform_test) \n",
        "Xtest_loader = torch.utils.data.DataLoader(test_dataset, batch_size = 10, shuffle=False)"
      ]
    },
    {
      "cell_type": "markdown",
      "metadata": {
        "id": "fUno1nmu_2hh"
      },
      "source": [
        "* This is our dataset $\\mathcal{X}_{\\text{train}}$, it will be used until the end of this project. \n",
        "\n",
        "* The remaining samples correspond to $\\mathcal{X}$. \n",
        "\n",
        "* The testing set $\\mathcal{X}_{\\text{test}}$ corresponds to the whole testing set of CIFAR-10."
      ]
    },
    {
      "cell_type": "markdown",
      "metadata": {
        "id": "Vr0d4o5L_2hi"
      },
      "source": [
        "## Testing procedure\n",
        "__Question 2 (1.5 points):__ Explain why the evaluation of the training procedure is difficult. Propose several solutions."
      ]
    },
    {
      "cell_type": "markdown",
      "metadata": {
        "id": "ppiTrnpd_2hi"
      },
      "source": [
        "First, it is hard to define a clear criteria before we finished training. Usually, we evaluate models according to the performance, which means only after testing procedure we are more aware of trained models. Then, the difficulty relates to complex dynamic environment because during the training procedure, the coefficients and parameters are updated along with time. Even there is corresponding criteria for evaluation, probably, the value of parameters could outperform in next few iterations or steps. At the meantime, it definitely takes up more space or capability, which would lead to longer training time and poorer output. Besides, overfitting could be an issue if the training procedure follows evaluation too well. Therefore, how to avoid overfitting by having training evaluated well would be another challenge.\n",
        "\n",
        "\n",
        "Possible solutions:\n",
        "* Split data into training set and validation set to evaluate;\n",
        "* More clear architecture of models so that it might be easier to add evaluation steps;\n",
        "* Define more explicit standard if on the data that could be easily supervised."
      ]
    },
    {
      "cell_type": "markdown",
      "metadata": {
        "id": "OEaIwILB_2hi"
      },
      "source": [
        "# The Baseline"
      ]
    },
    {
      "cell_type": "markdown",
      "metadata": {
        "id": "M-PQZ2Vl_2hi"
      },
      "source": [
        "In this section, the goal is to train a CNN on $\\mathcal{X}_{\\text{train}}$ and compare its performance with reported numbers from the litterature. You will have to re-use and/or design a standard classification pipeline. You should optimize your pipeline to obtain the best performances (image size, data augmentation by flip, ...).\n",
        "\n",
        "The key ingredients for training a CNN are the batch size, as well as the learning rate scheduler (i.e. how to decrease the learning rate as a function of the number of epochs). A possible scheduler is to start the learning rate at 0.1 and decreasing it every 30 epochs by 10. In case of divergence, reduce the learning rate. A potential batch size could be 10, yet this can be cross-validated.\n",
        "\n",
        "You can get some baselines accuracies in this paper (obviously, it is a different context for those researchers who had access to GPUs!) : http://openaccess.thecvf.com/content_cvpr_2018/papers/Keshari_Learning_Structure_and_CVPR_2018_paper.pdf. "
      ]
    },
    {
      "cell_type": "markdown",
      "source": [
        "## ResNet architectures"
      ],
      "metadata": {
        "id": "aZu_0zmHe-KH"
      }
    },
    {
      "cell_type": "markdown",
      "source": [
        "__Question 3 (4 points) :__ Write a classification pipeline for $\\mathcal{X}_{\\text{train}}$, train from scratch and evaluate a *ResNet-18* architecture specific to CIFAR10 (details about the ImageNet model can be found here: https://arxiv.org/abs/1512.03385). Please report the accuracy obtained on the whole dataset as well as the reference paper/GitHub link.\n",
        "\n",
        "*Hint :* You can re-use the following code : https://github.com/kuangliu/pytorch-cifar. During a training of 10 epochs, a batch size of 10 and a learning rate of 0.01, one obtains 40% accuracy on $\\mathcal{X}_{\\text{train}}$ (\\~2 minutes) and 20% accuracy on $\\mathcal{X}_{\\text{test}}$ (\\~5 minutes)."
      ],
      "metadata": {
        "id": "bRcu6d-VfHIS"
      }
    },
    {
      "cell_type": "code",
      "source": [
        "import torch\n",
        "import torch.nn as nn\n",
        "import torch.optim as optim\n",
        "from torch.utils.data import DataLoader\n",
        "from torch.optim.lr_scheduler import StepLR\n",
        "\n",
        "class Net(nn.Module):\n",
        "    def __init__(self):\n",
        "        super(Net, self).__init__()\n",
        "        self.conv1 = nn.Conv2d(3, 32, kernel_size=3, padding=1)\n",
        "        self.conv2 = nn.Conv2d(32, 64, kernel_size=3, padding=1)\n",
        "        self.conv3 = nn.Conv2d(64, 128, kernel_size=3, padding=1)\n",
        "        self.pool = nn.MaxPool2d(2, 2)\n",
        "        self.fc1 = nn.Linear(128 * 4 * 4, 512)\n",
        "        self.fc2 = nn.Linear(512, 10)\n",
        "\n",
        "    \n",
        "    def forward(self, x):\n",
        "        x = self.pool(torch.relu(self.conv1(x)))\n",
        "        x = self.pool(torch.relu(self.conv2(x)))\n",
        "        x = self.pool(torch.relu(self.conv3(x)))\n",
        "        x = x.view(-1, 128 * 4 * 4)\n",
        "        x = torch.relu(self.fc1(x))\n",
        "        x = self.fc2(x)\n",
        "        return x"
      ],
      "metadata": {
        "id": "1OeulJ4CZv-q"
      },
      "execution_count": null,
      "outputs": []
    },
    {
      "cell_type": "code",
      "source": [
        "device = torch.device(\"cuda\" if torch.cuda.is_available() else \"cpu\")\n",
        "# Create the CNN model\n",
        "model = Net().to(device)\n",
        "# Define the loss function and optimizer\n",
        "criterion = nn.CrossEntropyLoss()\n",
        "optimizer = optim.SGD(model.parameters(), lr=0.1)\n",
        "# Define the learning rate scheduler\n",
        "scheduler = StepLR(optimizer, step_size=30, gamma=0.1)\n",
        "# Train the model for the specified number of epochs\n",
        "num_epochs = 100"
      ],
      "metadata": {
        "id": "WFr0Ap5Xg1Xz"
      },
      "execution_count": null,
      "outputs": []
    },
    {
      "cell_type": "code",
      "source": [
        "# Train CNN\n",
        "for epoch in range(num_epochs):  # loop over the dataset multiple times\n",
        "    running_loss = 0.0\n",
        "    correct = 0\n",
        "    total = 0\n",
        "    for i, data in enumerate(Xtrain_loader, 0):\n",
        "        # Get the inputs; data is a list of [inputs, labels]\n",
        "        inputs, labels = data\n",
        "        # Zero the parameter gradients\n",
        "        optimizer.zero_grad()\n",
        "        # Forward + backward + optimize\n",
        "        outputs = model(inputs)\n",
        "        loss = criterion(outputs, labels)\n",
        "        loss.backward()\n",
        "        optimizer.step()\n",
        "        # Calculate the running loss and accuracy\n",
        "        running_loss += loss.item()\n",
        "        _, predicted = torch.max(outputs.data, 1)\n",
        "        total += labels.size(0)\n",
        "        correct += (predicted == labels).sum().item()\n",
        "    scheduler.step()\n",
        "    # Print statistics\n",
        "    print('Epoch %d, Loss: %.3f, Accuracy: %.3f%%' %\n",
        "          (epoch + 1, running_loss / len(Xtrain_loader),\n",
        "           100 * correct / total))"
      ],
      "metadata": {
        "colab": {
          "base_uri": "https://localhost:8080/"
        },
        "id": "Y6tgJRJ0hnR9",
        "outputId": "045e57d4-7bc8-4dcb-c4b1-11406c4ed26d"
      },
      "execution_count": null,
      "outputs": [
        {
          "output_type": "stream",
          "name": "stdout",
          "text": [
            "Epoch 1, Loss: 2.298, Accuracy: 13.000%\n",
            "Epoch 2, Loss: 2.270, Accuracy: 16.000%\n",
            "Epoch 3, Loss: 2.259, Accuracy: 16.000%\n",
            "Epoch 4, Loss: 2.253, Accuracy: 16.000%\n",
            "Epoch 5, Loss: 2.242, Accuracy: 13.000%\n",
            "Epoch 6, Loss: 2.243, Accuracy: 16.000%\n",
            "Epoch 7, Loss: 2.216, Accuracy: 15.000%\n",
            "Epoch 8, Loss: 2.231, Accuracy: 18.000%\n",
            "Epoch 9, Loss: 2.215, Accuracy: 19.000%\n",
            "Epoch 10, Loss: 2.201, Accuracy: 20.000%\n",
            "Epoch 11, Loss: 2.182, Accuracy: 27.000%\n",
            "Epoch 12, Loss: 2.151, Accuracy: 21.000%\n",
            "Epoch 13, Loss: 2.137, Accuracy: 21.000%\n",
            "Epoch 14, Loss: 2.065, Accuracy: 26.000%\n",
            "Epoch 15, Loss: 2.106, Accuracy: 27.000%\n",
            "Epoch 16, Loss: 2.009, Accuracy: 30.000%\n",
            "Epoch 17, Loss: 2.008, Accuracy: 28.000%\n",
            "Epoch 18, Loss: 1.994, Accuracy: 30.000%\n",
            "Epoch 19, Loss: 1.865, Accuracy: 30.000%\n",
            "Epoch 20, Loss: 1.983, Accuracy: 24.000%\n",
            "Epoch 21, Loss: 1.900, Accuracy: 34.000%\n",
            "Epoch 22, Loss: 1.871, Accuracy: 30.000%\n",
            "Epoch 23, Loss: 1.840, Accuracy: 29.000%\n",
            "Epoch 24, Loss: 1.805, Accuracy: 37.000%\n",
            "Epoch 25, Loss: 1.779, Accuracy: 32.000%\n",
            "Epoch 26, Loss: 1.806, Accuracy: 31.000%\n",
            "Epoch 27, Loss: 1.840, Accuracy: 35.000%\n",
            "Epoch 28, Loss: 1.660, Accuracy: 44.000%\n",
            "Epoch 29, Loss: 1.665, Accuracy: 41.000%\n",
            "Epoch 30, Loss: 1.634, Accuracy: 36.000%\n",
            "Epoch 31, Loss: 1.474, Accuracy: 44.000%\n",
            "Epoch 32, Loss: 1.352, Accuracy: 54.000%\n",
            "Epoch 33, Loss: 1.307, Accuracy: 54.000%\n",
            "Epoch 34, Loss: 1.323, Accuracy: 52.000%\n",
            "Epoch 35, Loss: 1.249, Accuracy: 58.000%\n",
            "Epoch 36, Loss: 1.216, Accuracy: 55.000%\n",
            "Epoch 37, Loss: 1.235, Accuracy: 58.000%\n",
            "Epoch 38, Loss: 1.155, Accuracy: 57.000%\n",
            "Epoch 39, Loss: 1.127, Accuracy: 62.000%\n",
            "Epoch 40, Loss: 1.129, Accuracy: 63.000%\n",
            "Epoch 41, Loss: 1.077, Accuracy: 62.000%\n",
            "Epoch 42, Loss: 1.102, Accuracy: 61.000%\n",
            "Epoch 43, Loss: 1.189, Accuracy: 59.000%\n",
            "Epoch 44, Loss: 1.129, Accuracy: 52.000%\n",
            "Epoch 45, Loss: 1.049, Accuracy: 62.000%\n",
            "Epoch 46, Loss: 1.090, Accuracy: 60.000%\n",
            "Epoch 47, Loss: 1.059, Accuracy: 65.000%\n",
            "Epoch 48, Loss: 1.114, Accuracy: 61.000%\n",
            "Epoch 49, Loss: 1.064, Accuracy: 60.000%\n",
            "Epoch 50, Loss: 1.066, Accuracy: 56.000%\n",
            "Epoch 51, Loss: 1.025, Accuracy: 66.000%\n",
            "Epoch 52, Loss: 0.986, Accuracy: 62.000%\n",
            "Epoch 53, Loss: 0.919, Accuracy: 71.000%\n",
            "Epoch 54, Loss: 0.905, Accuracy: 66.000%\n",
            "Epoch 55, Loss: 0.939, Accuracy: 60.000%\n",
            "Epoch 56, Loss: 0.910, Accuracy: 66.000%\n",
            "Epoch 57, Loss: 0.921, Accuracy: 66.000%\n",
            "Epoch 58, Loss: 0.872, Accuracy: 67.000%\n",
            "Epoch 59, Loss: 0.888, Accuracy: 68.000%\n",
            "Epoch 60, Loss: 0.808, Accuracy: 73.000%\n",
            "Epoch 61, Loss: 0.778, Accuracy: 72.000%\n",
            "Epoch 62, Loss: 0.807, Accuracy: 70.000%\n",
            "Epoch 63, Loss: 0.799, Accuracy: 72.000%\n",
            "Epoch 64, Loss: 0.797, Accuracy: 74.000%\n",
            "Epoch 65, Loss: 0.769, Accuracy: 76.000%\n",
            "Epoch 66, Loss: 0.797, Accuracy: 70.000%\n",
            "Epoch 67, Loss: 0.785, Accuracy: 72.000%\n",
            "Epoch 68, Loss: 0.769, Accuracy: 72.000%\n",
            "Epoch 69, Loss: 0.791, Accuracy: 73.000%\n",
            "Epoch 70, Loss: 0.760, Accuracy: 71.000%\n",
            "Epoch 71, Loss: 0.733, Accuracy: 71.000%\n",
            "Epoch 72, Loss: 0.713, Accuracy: 76.000%\n",
            "Epoch 73, Loss: 0.748, Accuracy: 76.000%\n",
            "Epoch 74, Loss: 0.691, Accuracy: 77.000%\n",
            "Epoch 75, Loss: 0.802, Accuracy: 75.000%\n",
            "Epoch 76, Loss: 0.748, Accuracy: 78.000%\n",
            "Epoch 77, Loss: 0.731, Accuracy: 73.000%\n",
            "Epoch 78, Loss: 0.755, Accuracy: 74.000%\n",
            "Epoch 79, Loss: 0.751, Accuracy: 74.000%\n",
            "Epoch 80, Loss: 0.772, Accuracy: 73.000%\n",
            "Epoch 81, Loss: 0.771, Accuracy: 74.000%\n",
            "Epoch 82, Loss: 0.780, Accuracy: 73.000%\n",
            "Epoch 83, Loss: 0.710, Accuracy: 72.000%\n",
            "Epoch 84, Loss: 0.791, Accuracy: 70.000%\n",
            "Epoch 85, Loss: 0.685, Accuracy: 75.000%\n",
            "Epoch 86, Loss: 0.806, Accuracy: 71.000%\n",
            "Epoch 87, Loss: 0.681, Accuracy: 80.000%\n",
            "Epoch 88, Loss: 0.748, Accuracy: 74.000%\n",
            "Epoch 89, Loss: 0.808, Accuracy: 75.000%\n",
            "Epoch 90, Loss: 0.693, Accuracy: 77.000%\n",
            "Epoch 91, Loss: 0.657, Accuracy: 74.000%\n",
            "Epoch 92, Loss: 0.824, Accuracy: 70.000%\n",
            "Epoch 93, Loss: 0.722, Accuracy: 74.000%\n",
            "Epoch 94, Loss: 0.739, Accuracy: 73.000%\n",
            "Epoch 95, Loss: 0.737, Accuracy: 72.000%\n",
            "Epoch 96, Loss: 0.689, Accuracy: 79.000%\n",
            "Epoch 97, Loss: 0.664, Accuracy: 74.000%\n",
            "Epoch 98, Loss: 0.722, Accuracy: 75.000%\n",
            "Epoch 99, Loss: 0.712, Accuracy: 75.000%\n",
            "Epoch 100, Loss: 0.753, Accuracy: 73.000%\n"
          ]
        }
      ]
    },
    {
      "cell_type": "code",
      "source": [
        "# Evaluate the model on the test set\n",
        "correct = 0\n",
        "total = 0\n",
        "with torch.no_grad():\n",
        "    for data in Xtest_loader:\n",
        "        images, labels = data\n",
        "        outputs = model(images)\n",
        "        _, predicted = torch.max(outputs.data, 1)\n",
        "        total += labels.size(0)\n",
        "        correct += (predicted == labels).sum().item()\n",
        "print('Accuracy of the network on the %d test images: %d %%' % (len(Xtest_loader.dataset), 100 * correct / total))"
      ],
      "metadata": {
        "colab": {
          "base_uri": "https://localhost:8080/"
        },
        "id": "ZRDz1nNbpr3g",
        "outputId": "13910fa1-81ec-4389-ba64-f5f67b982584"
      },
      "execution_count": null,
      "outputs": [
        {
          "output_type": "stream",
          "name": "stdout",
          "text": [
            "Accuracy of the network on the 10000 test images: 24 %\n"
          ]
        }
      ]
    },
    {
      "cell_type": "code",
      "execution_count": null,
      "metadata": {
        "id": "RVHhKmWN_2hj",
        "colab": {
          "base_uri": "https://localhost:8080/"
        },
        "outputId": "0bf39582-bb79-4f63-e5e2-90ea2f67e76c"
      },
      "outputs": [
        {
          "output_type": "stream",
          "name": "stdout",
          "text": [
            "torch.Size([1, 10])\n"
          ]
        }
      ],
      "source": [
        "import torch\n",
        "import torch.nn as nn\n",
        "import torch.nn.functional as F\n",
        "\n",
        "\n",
        "class BasicBlock(nn.Module):\n",
        "    expansion = 1\n",
        "\n",
        "    def __init__(self, in_planes, planes, stride=1):\n",
        "        super(BasicBlock, self).__init__()\n",
        "        self.conv1 = nn.Conv2d(\n",
        "            in_planes, planes, kernel_size=3, stride=stride, padding=1, bias=False)\n",
        "        self.bn1 = nn.BatchNorm2d(planes)\n",
        "        self.conv2 = nn.Conv2d(planes, planes, kernel_size=3,\n",
        "                               stride=1, padding=1, bias=False)\n",
        "        self.bn2 = nn.BatchNorm2d(planes)\n",
        "\n",
        "        self.shortcut = nn.Sequential()\n",
        "        if stride != 1 or in_planes != self.expansion*planes:\n",
        "            self.shortcut = nn.Sequential(\n",
        "                nn.Conv2d(in_planes, self.expansion*planes,\n",
        "                          kernel_size=1, stride=stride, bias=False),\n",
        "                nn.BatchNorm2d(self.expansion*planes)\n",
        "            )\n",
        "\n",
        "    def forward(self, x):\n",
        "        out = F.relu(self.bn1(self.conv1(x)))\n",
        "        out = self.bn2(self.conv2(out))\n",
        "        out += self.shortcut(x)\n",
        "        out = F.relu(out)\n",
        "        return out\n",
        "\n",
        "\n",
        "class Bottleneck(nn.Module):\n",
        "    expansion = 4\n",
        "\n",
        "    def __init__(self, in_planes, planes, stride=1):\n",
        "        super(Bottleneck, self).__init__()\n",
        "        self.conv1 = nn.Conv2d(in_planes, planes, kernel_size=1, bias=False)\n",
        "        self.bn1 = nn.BatchNorm2d(planes)\n",
        "        self.conv2 = nn.Conv2d(planes, planes, kernel_size=3,\n",
        "                               stride=stride, padding=1, bias=False)\n",
        "        self.bn2 = nn.BatchNorm2d(planes)\n",
        "        self.conv3 = nn.Conv2d(planes, self.expansion *\n",
        "                               planes, kernel_size=1, bias=False)\n",
        "        self.bn3 = nn.BatchNorm2d(self.expansion*planes)\n",
        "\n",
        "        self.shortcut = nn.Sequential()\n",
        "        if stride != 1 or in_planes != self.expansion*planes:\n",
        "            self.shortcut = nn.Sequential(\n",
        "                nn.Conv2d(in_planes, self.expansion*planes,\n",
        "                          kernel_size=1, stride=stride, bias=False),\n",
        "                nn.BatchNorm2d(self.expansion*planes)\n",
        "            )\n",
        "\n",
        "    def forward(self, x):\n",
        "        out = F.relu(self.bn1(self.conv1(x)))\n",
        "        out = F.relu(self.bn2(self.conv2(out)))\n",
        "        out = self.bn3(self.conv3(out))\n",
        "        out += self.shortcut(x)\n",
        "        out = F.relu(out)\n",
        "        return out\n",
        "\n",
        "\n",
        "class ResNet(nn.Module):\n",
        "    def __init__(self, block, num_blocks, num_classes=10):\n",
        "        super(ResNet, self).__init__()\n",
        "        self.in_planes = 64\n",
        "\n",
        "        self.conv1 = nn.Conv2d(3, 64, kernel_size=3,\n",
        "                               stride=1, padding=1, bias=False)\n",
        "        self.bn1 = nn.BatchNorm2d(64)\n",
        "        self.layer1 = self._make_layer(block, 64, num_blocks[0], stride=1)\n",
        "        self.layer2 = self._make_layer(block, 128, num_blocks[1], stride=2)\n",
        "        self.layer3 = self._make_layer(block, 256, num_blocks[2], stride=2)\n",
        "        self.layer4 = self._make_layer(block, 512, num_blocks[3], stride=2)\n",
        "        self.linear = nn.Linear(512*block.expansion, num_classes)\n",
        "    def _make_layer(self, block, planes, num_blocks, stride):\n",
        "        strides = [stride] + [1]*(num_blocks-1)\n",
        "        layers = []\n",
        "        for stride in strides:\n",
        "            layers.append(block(self.in_planes, planes, stride))\n",
        "            self.in_planes = planes * block.expansion\n",
        "        return nn.Sequential(*layers)\n",
        "    def forward(self, x):\n",
        "        out = F.relu(self.bn1(self.conv1(x)))\n",
        "        out = self.layer1(out)\n",
        "        out = self.layer2(out)\n",
        "        out = self.layer3(out)\n",
        "        out = self.layer4(out)\n",
        "        out = F.avg_pool2d(out, 4)\n",
        "        out = out.view(out.size(0), -1)\n",
        "        out = self.linear(out)\n",
        "        return out\n",
        "def ResNet18():\n",
        "    return ResNet(BasicBlock, [2, 2, 2, 2])\n",
        "def test():\n",
        "    net = ResNet18()\n",
        "    y = net(torch.randn(1, 3, 32, 32))\n",
        "    print(y.size())\n",
        "test()"
      ]
    },
    {
      "cell_type": "code",
      "source": [
        "model = ResNet18().to(device)\n",
        "# Define the loss function and optimizer\n",
        "criterion = nn.CrossEntropyLoss()\n",
        "optimizer = optim.SGD(model.parameters(), lr=0.1)\n",
        "# Define the learning rate scheduler\n",
        "scheduler = StepLR(optimizer, step_size=30, gamma=0.1)\n",
        "# Train the model for the specified number of epochs\n",
        "num_epochs = 100"
      ],
      "metadata": {
        "id": "T-Zs2HK_4yEE"
      },
      "execution_count": null,
      "outputs": []
    },
    {
      "cell_type": "code",
      "source": [
        "# Evaluate the network\n",
        "def evaluate(net, dataloader):\n",
        "    correct = 0\n",
        "    total = 0\n",
        "\n",
        "    with torch.no_grad():\n",
        "        for data in dataloader:\n",
        "            images, labels = data\n",
        "            outputs = net(images)\n",
        "            _, predicted = torch.max(outputs.data, 1)\n",
        "            total += labels.size(0)\n",
        "            correct += (predicted == labels).sum().item()\n",
        "\n",
        "    accuracy = 100 * correct / total\n",
        "    return accuracy\n",
        "\n",
        "# Train the network\n",
        "for epoch in range(num_epochs):  # loop over the dataset multiple times\n",
        "    running_loss = 0.0\n",
        "    correct = 0\n",
        "    total = 0\n",
        "    for i, data in enumerate(Xtrain_loader, 0):\n",
        "        # Get the inputs; data is a list of [inputs, labels]\n",
        "        inputs, labels = data\n",
        "        # Zero the parameter gradients\n",
        "        optimizer.zero_grad()\n",
        "        # Forward + backward + optimize\n",
        "        outputs = model(inputs)\n",
        "        loss = criterion(outputs, labels)\n",
        "        loss.backward()\n",
        "        optimizer.step()\n",
        "        # Calculate the running loss and accuracy\n",
        "        running_loss += loss.item()\n",
        "        _, predicted = torch.max(outputs.data, 1)\n",
        "        total += labels.size(0)\n",
        "        correct += (predicted == labels).sum().item()\n",
        "    scheduler.step()\n",
        "    # Print statistics\n",
        "    print('Epoch %d, Loss: %.3f, Accuracy: %.3f%%' %\n",
        "          (epoch + 1, running_loss / len(Xtrain_loader),\n",
        "           100 * correct / total))\n",
        "    \n",
        "print('Accuracy on test set after training: %f%%' % evaluate(model, Xtest_loader))"
      ],
      "metadata": {
        "colab": {
          "base_uri": "https://localhost:8080/"
        },
        "id": "a-NrR0i74qFC",
        "outputId": "ee793938-e687-4a26-ddb6-8c3072d3341d"
      },
      "execution_count": null,
      "outputs": [
        {
          "output_type": "stream",
          "name": "stdout",
          "text": [
            "Epoch 1, Loss: 6.702, Accuracy: 8.000%\n",
            "Epoch 2, Loss: 3.824, Accuracy: 12.000%\n",
            "Epoch 3, Loss: 2.931, Accuracy: 9.000%\n",
            "Epoch 4, Loss: 2.428, Accuracy: 16.000%\n",
            "Epoch 5, Loss: 2.664, Accuracy: 10.000%\n",
            "Epoch 6, Loss: 2.263, Accuracy: 16.000%\n",
            "Epoch 7, Loss: 2.369, Accuracy: 16.000%\n",
            "Epoch 8, Loss: 2.225, Accuracy: 21.000%\n",
            "Epoch 9, Loss: 2.208, Accuracy: 24.000%\n",
            "Epoch 10, Loss: 2.151, Accuracy: 24.000%\n",
            "Epoch 11, Loss: 2.131, Accuracy: 21.000%\n",
            "Epoch 12, Loss: 2.154, Accuracy: 22.000%\n",
            "Epoch 13, Loss: 2.423, Accuracy: 22.000%\n",
            "Epoch 14, Loss: 2.130, Accuracy: 22.000%\n",
            "Epoch 15, Loss: 2.062, Accuracy: 22.000%\n",
            "Epoch 16, Loss: 1.904, Accuracy: 27.000%\n",
            "Epoch 17, Loss: 1.804, Accuracy: 39.000%\n",
            "Epoch 18, Loss: 2.069, Accuracy: 29.000%\n",
            "Epoch 19, Loss: 1.926, Accuracy: 27.000%\n",
            "Epoch 20, Loss: 1.911, Accuracy: 27.000%\n",
            "Epoch 21, Loss: 1.961, Accuracy: 26.000%\n",
            "Epoch 22, Loss: 2.068, Accuracy: 32.000%\n",
            "Epoch 23, Loss: 1.812, Accuracy: 28.000%\n",
            "Epoch 24, Loss: 1.807, Accuracy: 29.000%\n",
            "Epoch 25, Loss: 1.850, Accuracy: 29.000%\n",
            "Epoch 26, Loss: 1.835, Accuracy: 38.000%\n",
            "Epoch 27, Loss: 1.818, Accuracy: 33.000%\n",
            "Epoch 28, Loss: 1.631, Accuracy: 39.000%\n",
            "Epoch 29, Loss: 1.672, Accuracy: 39.000%\n",
            "Epoch 30, Loss: 1.701, Accuracy: 38.000%\n",
            "Epoch 31, Loss: 1.508, Accuracy: 46.000%\n",
            "Epoch 32, Loss: 1.379, Accuracy: 49.000%\n",
            "Epoch 33, Loss: 1.327, Accuracy: 59.000%\n",
            "Epoch 34, Loss: 1.424, Accuracy: 47.000%\n",
            "Epoch 35, Loss: 1.235, Accuracy: 54.000%\n",
            "Epoch 36, Loss: 1.238, Accuracy: 57.000%\n",
            "Epoch 37, Loss: 1.217, Accuracy: 60.000%\n",
            "Epoch 38, Loss: 1.173, Accuracy: 65.000%\n",
            "Epoch 39, Loss: 1.180, Accuracy: 55.000%\n",
            "Epoch 40, Loss: 1.137, Accuracy: 61.000%\n",
            "Epoch 41, Loss: 1.135, Accuracy: 60.000%\n",
            "Epoch 42, Loss: 1.156, Accuracy: 66.000%\n",
            "Epoch 43, Loss: 1.080, Accuracy: 61.000%\n",
            "Epoch 44, Loss: 0.995, Accuracy: 68.000%\n",
            "Epoch 45, Loss: 1.048, Accuracy: 69.000%\n",
            "Epoch 46, Loss: 1.220, Accuracy: 58.000%\n",
            "Epoch 47, Loss: 1.142, Accuracy: 56.000%\n",
            "Epoch 48, Loss: 1.038, Accuracy: 64.000%\n",
            "Epoch 49, Loss: 1.003, Accuracy: 65.000%\n",
            "Epoch 50, Loss: 0.877, Accuracy: 75.000%\n",
            "Epoch 51, Loss: 0.998, Accuracy: 65.000%\n",
            "Epoch 52, Loss: 1.221, Accuracy: 57.000%\n",
            "Epoch 53, Loss: 1.240, Accuracy: 55.000%\n",
            "Epoch 54, Loss: 0.949, Accuracy: 68.000%\n",
            "Epoch 55, Loss: 0.997, Accuracy: 69.000%\n",
            "Epoch 56, Loss: 0.922, Accuracy: 67.000%\n",
            "Epoch 57, Loss: 0.844, Accuracy: 72.000%\n",
            "Epoch 58, Loss: 0.917, Accuracy: 63.000%\n",
            "Epoch 59, Loss: 0.898, Accuracy: 68.000%\n",
            "Epoch 60, Loss: 0.903, Accuracy: 67.000%\n",
            "Epoch 61, Loss: 0.993, Accuracy: 63.000%\n",
            "Epoch 62, Loss: 0.865, Accuracy: 69.000%\n",
            "Epoch 63, Loss: 0.900, Accuracy: 71.000%\n",
            "Epoch 64, Loss: 0.812, Accuracy: 78.000%\n",
            "Epoch 65, Loss: 0.768, Accuracy: 74.000%\n",
            "Epoch 66, Loss: 0.858, Accuracy: 70.000%\n",
            "Epoch 67, Loss: 0.806, Accuracy: 73.000%\n",
            "Epoch 68, Loss: 0.899, Accuracy: 69.000%\n",
            "Epoch 69, Loss: 0.770, Accuracy: 72.000%\n",
            "Epoch 70, Loss: 0.788, Accuracy: 73.000%\n",
            "Epoch 71, Loss: 0.744, Accuracy: 81.000%\n",
            "Epoch 72, Loss: 0.724, Accuracy: 78.000%\n",
            "Epoch 73, Loss: 0.893, Accuracy: 70.000%\n",
            "Epoch 74, Loss: 0.781, Accuracy: 74.000%\n",
            "Epoch 75, Loss: 0.756, Accuracy: 72.000%\n",
            "Epoch 76, Loss: 0.819, Accuracy: 74.000%\n",
            "Epoch 77, Loss: 0.828, Accuracy: 71.000%\n",
            "Epoch 78, Loss: 0.981, Accuracy: 64.000%\n",
            "Epoch 79, Loss: 0.661, Accuracy: 80.000%\n",
            "Epoch 80, Loss: 0.856, Accuracy: 69.000%\n",
            "Epoch 81, Loss: 0.730, Accuracy: 77.000%\n",
            "Epoch 82, Loss: 0.842, Accuracy: 69.000%\n",
            "Epoch 83, Loss: 0.771, Accuracy: 74.000%\n",
            "Epoch 84, Loss: 0.968, Accuracy: 69.000%\n",
            "Epoch 85, Loss: 0.859, Accuracy: 72.000%\n",
            "Epoch 86, Loss: 0.867, Accuracy: 66.000%\n",
            "Epoch 87, Loss: 0.653, Accuracy: 78.000%\n",
            "Epoch 88, Loss: 0.704, Accuracy: 76.000%\n",
            "Epoch 89, Loss: 0.767, Accuracy: 74.000%\n",
            "Epoch 90, Loss: 0.690, Accuracy: 76.000%\n",
            "Epoch 91, Loss: 0.722, Accuracy: 78.000%\n",
            "Epoch 92, Loss: 0.812, Accuracy: 72.000%\n",
            "Epoch 93, Loss: 0.944, Accuracy: 74.000%\n",
            "Epoch 94, Loss: 0.647, Accuracy: 78.000%\n",
            "Epoch 95, Loss: 0.722, Accuracy: 76.000%\n",
            "Epoch 96, Loss: 0.906, Accuracy: 71.000%\n",
            "Epoch 97, Loss: 0.776, Accuracy: 73.000%\n",
            "Epoch 98, Loss: 0.720, Accuracy: 76.000%\n",
            "Epoch 99, Loss: 0.580, Accuracy: 84.000%\n",
            "Epoch 100, Loss: 0.661, Accuracy: 75.000%\n",
            "Accuracy on test set after training: 21.570000%\n"
          ]
        }
      ]
    },
    {
      "cell_type": "markdown",
      "source": [
        "| Model | Number of  epochs  | Train accuracy | Test accuracy |\n",
        "|------|------|------|------|\n",
        "|   Resnet18  | 100 | 75% | 21.57% |\n",
        "|   BaselineModel  | 100 | 73% | 24% |"
      ],
      "metadata": {
        "id": "Q8-2YsHI7Isw"
      }
    },
    {
      "cell_type": "markdown",
      "metadata": {
        "id": "-C3mHqCk_2hj"
      },
      "source": [
        "# Transfer learning"
      ]
    },
    {
      "cell_type": "markdown",
      "metadata": {
        "id": "8Tn9pW14_2hj"
      },
      "source": [
        "We propose to use pre-trained models on a classification and generative task, in order to improve the results of our setting."
      ]
    },
    {
      "cell_type": "markdown",
      "source": [
        "## ImageNet features"
      ],
      "metadata": {
        "id": "C6SPD0bEHfkK"
      }
    },
    {
      "cell_type": "markdown",
      "source": [
        "Now, we will use some pre-trained models on ImageNet and see how well they compare on CIFAR. A list is available on : https://pytorch.org/vision/stable/models.html.\n",
        "\n",
        "__Question 4 (3 points):__ Pick a model from the list above, adapt it for CIFAR10 and retrain its final layer (or a block of layers, depending on the resources to which you have access to). Report its accuracy."
      ],
      "metadata": {
        "id": "LsG98pquHad7"
      }
    },
    {
      "cell_type": "code",
      "source": [
        "import torchvision.models as models\n",
        "resnet50 = models.resnet50(pretrained=True)\n",
        "\n",
        "# Freeze model parameters\n",
        "for param in resnet50.parameters():\n",
        "    param.requires_grad = False\n",
        "\n",
        "# Change the final layer of ResNet50 Model for Transfer Learning\n",
        "fc_inputs = resnet50.fc.in_features\n",
        "resnet50.fc = nn.Sequential(\n",
        "    nn.Linear(fc_inputs, 256),\n",
        "    nn.ReLU(),\n",
        "    nn.Dropout(0.4),\n",
        "    nn.Linear(256, 10), \n",
        "    nn.LogSoftmax(dim=1) # For using NLLLoss()\n",
        ")"
      ],
      "metadata": {
        "colab": {
          "base_uri": "https://localhost:8080/"
        },
        "id": "k4OzlccL3pMI",
        "outputId": "023b2413-cd1d-4713-9f52-98d735eab98f"
      },
      "execution_count": null,
      "outputs": [
        {
          "output_type": "stream",
          "name": "stderr",
          "text": [
            "/usr/local/lib/python3.9/dist-packages/torchvision/models/_utils.py:208: UserWarning: The parameter 'pretrained' is deprecated since 0.13 and may be removed in the future, please use 'weights' instead.\n",
            "  warnings.warn(\n",
            "/usr/local/lib/python3.9/dist-packages/torchvision/models/_utils.py:223: UserWarning: Arguments other than a weight enum or `None` for 'weights' are deprecated since 0.13 and may be removed in the future. The current behavior is equivalent to passing `weights=ResNet50_Weights.IMAGENET1K_V1`. You can also use `weights=ResNet50_Weights.DEFAULT` to get the most up-to-date weights.\n",
            "  warnings.warn(msg)\n"
          ]
        }
      ]
    },
    {
      "cell_type": "code",
      "source": [
        "resnet50 = resnet50.to(device)"
      ],
      "metadata": {
        "id": "R5oceKtnFQHL"
      },
      "execution_count": null,
      "outputs": []
    },
    {
      "cell_type": "code",
      "source": [
        "# Train the network\n",
        "for epoch in range(num_epochs):  # loop over the dataset multiple times\n",
        "    running_loss = 0.0\n",
        "    correct = 0\n",
        "    total = 0\n",
        "    for i, data in enumerate(Xtrain_loader, 0):\n",
        "        # Get the inputs; data is a list of [inputs, labels]\n",
        "        inputs, labels = data\n",
        "        # Zero the parameter gradients\n",
        "        optimizer.zero_grad()\n",
        "        # Forward + backward + optimize\n",
        "        outputs = resnet50(inputs)\n",
        "        loss = criterion(outputs, labels)\n",
        "        loss.backward()\n",
        "        optimizer.step()\n",
        "        # Calculate the running loss and accuracy\n",
        "        running_loss += loss.item()\n",
        "        _, predicted = torch.max(outputs.data, 1)\n",
        "        total += labels.size(0)\n",
        "        correct += (predicted == labels).sum().item()\n",
        "    scheduler.step()\n",
        "    # Print statistics\n",
        "    print('Epoch %d, Loss: %.3f, Accuracy: %.3f%%' %\n",
        "          (epoch + 1, running_loss / len(Xtrain_loader),\n",
        "           100 * correct / total))\n",
        "    \n",
        "print('Accuracy on test set after training: %f%%' % evaluate(resnet50, Xtest_loader))"
      ],
      "metadata": {
        "colab": {
          "base_uri": "https://localhost:8080/"
        },
        "id": "GiOVAki9GUXP",
        "outputId": "7105a069-57c1-4ba4-8219-2b7618fb4830"
      },
      "execution_count": null,
      "outputs": [
        {
          "output_type": "stream",
          "name": "stdout",
          "text": [
            "Epoch 1, Loss: 2.328, Accuracy: 10.000%\n",
            "Epoch 2, Loss: 2.324, Accuracy: 9.000%\n",
            "Epoch 3, Loss: 2.322, Accuracy: 10.000%\n",
            "Epoch 4, Loss: 2.352, Accuracy: 8.000%\n",
            "Epoch 5, Loss: 2.345, Accuracy: 8.000%\n",
            "Epoch 6, Loss: 2.323, Accuracy: 14.000%\n",
            "Epoch 7, Loss: 2.341, Accuracy: 9.000%\n",
            "Epoch 8, Loss: 2.307, Accuracy: 8.000%\n",
            "Epoch 9, Loss: 2.337, Accuracy: 7.000%\n",
            "Epoch 10, Loss: 2.324, Accuracy: 8.000%\n",
            "Epoch 11, Loss: 2.359, Accuracy: 6.000%\n",
            "Epoch 12, Loss: 2.336, Accuracy: 9.000%\n",
            "Epoch 13, Loss: 2.338, Accuracy: 8.000%\n",
            "Epoch 14, Loss: 2.347, Accuracy: 8.000%\n",
            "Epoch 15, Loss: 2.310, Accuracy: 13.000%\n",
            "Epoch 16, Loss: 2.355, Accuracy: 10.000%\n",
            "Epoch 17, Loss: 2.349, Accuracy: 6.000%\n",
            "Epoch 18, Loss: 2.359, Accuracy: 9.000%\n",
            "Epoch 19, Loss: 2.351, Accuracy: 10.000%\n",
            "Epoch 20, Loss: 2.338, Accuracy: 7.000%\n",
            "Epoch 21, Loss: 2.359, Accuracy: 5.000%\n",
            "Epoch 22, Loss: 2.375, Accuracy: 4.000%\n",
            "Epoch 23, Loss: 2.337, Accuracy: 4.000%\n",
            "Epoch 24, Loss: 2.374, Accuracy: 9.000%\n",
            "Epoch 25, Loss: 2.346, Accuracy: 10.000%\n",
            "Epoch 26, Loss: 2.348, Accuracy: 6.000%\n",
            "Epoch 27, Loss: 2.356, Accuracy: 5.000%\n",
            "Epoch 28, Loss: 2.357, Accuracy: 8.000%\n",
            "Epoch 29, Loss: 2.316, Accuracy: 10.000%\n",
            "Epoch 30, Loss: 2.370, Accuracy: 5.000%\n",
            "Epoch 31, Loss: 2.319, Accuracy: 12.000%\n",
            "Epoch 32, Loss: 2.345, Accuracy: 9.000%\n",
            "Epoch 33, Loss: 2.324, Accuracy: 5.000%\n",
            "Epoch 34, Loss: 2.341, Accuracy: 14.000%\n",
            "Epoch 35, Loss: 2.360, Accuracy: 8.000%\n",
            "Epoch 36, Loss: 2.350, Accuracy: 8.000%\n",
            "Epoch 37, Loss: 2.341, Accuracy: 13.000%\n",
            "Epoch 38, Loss: 2.350, Accuracy: 6.000%\n",
            "Epoch 39, Loss: 2.344, Accuracy: 12.000%\n",
            "Epoch 40, Loss: 2.342, Accuracy: 6.000%\n",
            "Epoch 41, Loss: 2.339, Accuracy: 5.000%\n",
            "Epoch 42, Loss: 2.330, Accuracy: 3.000%\n",
            "Epoch 43, Loss: 2.328, Accuracy: 6.000%\n",
            "Epoch 44, Loss: 2.332, Accuracy: 8.000%\n",
            "Epoch 45, Loss: 2.315, Accuracy: 7.000%\n",
            "Epoch 46, Loss: 2.363, Accuracy: 8.000%\n",
            "Epoch 47, Loss: 2.355, Accuracy: 5.000%\n",
            "Epoch 48, Loss: 2.336, Accuracy: 7.000%\n",
            "Epoch 49, Loss: 2.322, Accuracy: 9.000%\n",
            "Epoch 50, Loss: 2.323, Accuracy: 10.000%\n",
            "Epoch 51, Loss: 2.327, Accuracy: 9.000%\n",
            "Epoch 52, Loss: 2.343, Accuracy: 7.000%\n",
            "Epoch 53, Loss: 2.403, Accuracy: 6.000%\n",
            "Epoch 54, Loss: 2.377, Accuracy: 8.000%\n",
            "Epoch 55, Loss: 2.351, Accuracy: 10.000%\n",
            "Epoch 56, Loss: 2.348, Accuracy: 9.000%\n",
            "Epoch 57, Loss: 2.360, Accuracy: 6.000%\n",
            "Epoch 58, Loss: 2.371, Accuracy: 4.000%\n",
            "Epoch 59, Loss: 2.314, Accuracy: 5.000%\n",
            "Epoch 60, Loss: 2.336, Accuracy: 5.000%\n",
            "Epoch 61, Loss: 2.361, Accuracy: 10.000%\n",
            "Epoch 62, Loss: 2.384, Accuracy: 5.000%\n",
            "Epoch 63, Loss: 2.344, Accuracy: 8.000%\n",
            "Epoch 64, Loss: 2.339, Accuracy: 6.000%\n",
            "Epoch 65, Loss: 2.347, Accuracy: 10.000%\n",
            "Epoch 66, Loss: 2.327, Accuracy: 10.000%\n",
            "Epoch 67, Loss: 2.354, Accuracy: 7.000%\n",
            "Epoch 68, Loss: 2.328, Accuracy: 7.000%\n",
            "Epoch 69, Loss: 2.323, Accuracy: 10.000%\n",
            "Epoch 70, Loss: 2.363, Accuracy: 4.000%\n",
            "Epoch 71, Loss: 2.366, Accuracy: 6.000%\n",
            "Epoch 72, Loss: 2.315, Accuracy: 7.000%\n",
            "Epoch 73, Loss: 2.371, Accuracy: 4.000%\n",
            "Epoch 74, Loss: 2.339, Accuracy: 9.000%\n",
            "Epoch 75, Loss: 2.332, Accuracy: 8.000%\n",
            "Epoch 76, Loss: 2.347, Accuracy: 9.000%\n",
            "Epoch 77, Loss: 2.353, Accuracy: 3.000%\n",
            "Epoch 78, Loss: 2.346, Accuracy: 7.000%\n",
            "Epoch 79, Loss: 2.336, Accuracy: 11.000%\n",
            "Epoch 80, Loss: 2.308, Accuracy: 10.000%\n",
            "Epoch 81, Loss: 2.386, Accuracy: 5.000%\n",
            "Epoch 82, Loss: 2.334, Accuracy: 9.000%\n",
            "Epoch 83, Loss: 2.378, Accuracy: 4.000%\n",
            "Epoch 84, Loss: 2.344, Accuracy: 13.000%\n",
            "Epoch 85, Loss: 2.342, Accuracy: 6.000%\n",
            "Epoch 86, Loss: 2.357, Accuracy: 8.000%\n",
            "Epoch 87, Loss: 2.340, Accuracy: 9.000%\n",
            "Epoch 88, Loss: 2.307, Accuracy: 9.000%\n",
            "Epoch 89, Loss: 2.314, Accuracy: 8.000%\n",
            "Epoch 90, Loss: 2.348, Accuracy: 2.000%\n",
            "Epoch 91, Loss: 2.323, Accuracy: 12.000%\n",
            "Epoch 92, Loss: 2.320, Accuracy: 9.000%\n",
            "Epoch 93, Loss: 2.343, Accuracy: 11.000%\n",
            "Epoch 94, Loss: 2.354, Accuracy: 9.000%\n",
            "Epoch 95, Loss: 2.339, Accuracy: 10.000%\n",
            "Epoch 96, Loss: 2.330, Accuracy: 6.000%\n",
            "Epoch 97, Loss: 2.322, Accuracy: 10.000%\n",
            "Epoch 98, Loss: 2.337, Accuracy: 8.000%\n",
            "Epoch 99, Loss: 2.335, Accuracy: 8.000%\n",
            "Epoch 100, Loss: 2.368, Accuracy: 7.000%\n",
            "Accuracy on test set after training: 10.570000%\n"
          ]
        }
      ]
    },
    {
      "cell_type": "markdown",
      "source": [
        "| Model | Number of  epochs  | Train accuracy | Test accuracy |\n",
        "|------|------|------|------|\n",
        "|   pretrained_resnet50  | 100 | 7% | 10.57% |"
      ],
      "metadata": {
        "id": "GWRvq4-bGxte"
      }
    },
    {
      "cell_type": "markdown",
      "metadata": {
        "id": "SvkuMzLs_2hk"
      },
      "source": [
        "# Incorporating *a priori*\n",
        "Geometrical *a priori* are appealing for image classification tasks. For now, we only consider linear transformations $\\mathcal{T}$ of the inputs $x:\\mathbb{S}^2\\rightarrow\\mathbb{R}$ where $\\mathbb{S}$ is the support of an image, meaning that :\n",
        "\n",
        "$$\\forall u\\in\\mathbb{S}^2,\\mathcal{T}(\\lambda x+\\mu y)(u)=\\lambda \\mathcal{T}(x)(u)+\\mu \\mathcal{T}(y)(u)\\,.$$\n",
        "\n",
        "For instance if an image had an infinite support, a translation $\\mathcal{T}_a$ by $a$ would lead to :\n",
        "\n",
        "$$\\forall u, \\mathcal{T}_a(x)(u)=x(u-a)\\,.$$\n",
        "\n",
        "Otherwise, one has to handle several boundary effects.\n",
        "\n",
        "__Question 5 (1.5 points) :__ Explain the issues when dealing with translations, rotations, scaling effects, color changes on $32\\times32$ images. Propose several ideas to tackle them."
      ]
    },
    {
      "cell_type": "markdown",
      "metadata": {
        "id": "TIaY60o1_2hk"
      },
      "source": [
        "Because of 32×32, the images are not capable of containing a lot of changeable information. It might cause loss of information, particularly on such small-size images. A slight adjustment may lead to an innegligible portion of data losing or varying. Resizing it larger or smaller, either would bring issues. The images resized larger tend to have redundant copies of pixels while the smaller ones couldn't provide more clues. Besides, altering the colors in an image can make it more difficult to identify features, as colors can convey important information about an object's texture, shape and position.\n",
        "\n",
        "several ideas to tackle them:\n",
        "*  use padding around the edges of the image to ensure that all important information is captured even if the image is shifted.\n",
        "*  use image alignment techniques involving finding the corresponding points between two images and then using those points to transform one image so that it aligns with the other. \n",
        "*  Color changes can be corrected using color normalization techniques, such as histogram equalization, to ensure that the image has consistent lighting and color across different parts of the image.\n",
        "\n"
      ]
    },
    {
      "cell_type": "markdown",
      "metadata": {
        "id": "ds6e6teG_2hk"
      },
      "source": [
        "## Data augmentations"
      ]
    },
    {
      "cell_type": "markdown",
      "metadata": {
        "id": "-Ek5wlOo_2hk"
      },
      "source": [
        "__Question 6 (3 points):__ Propose a set of geometric transformation beyond translation, and incorporate them in your training pipeline. Train the model of the __Question 3__ with them and report the accuracies."
      ]
    },
    {
      "cell_type": "code",
      "execution_count": null,
      "metadata": {
        "collapsed": true,
        "id": "FqCjrXGk_2hk",
        "colab": {
          "base_uri": "https://localhost:8080/"
        },
        "outputId": "b6853462-3691-4ea4-96ca-7aba0cb5b68f"
      },
      "outputs": [
        {
          "output_type": "stream",
          "name": "stdout",
          "text": [
            "Files already downloaded and verified\n",
            "Files already downloaded and verified\n"
          ]
        }
      ],
      "source": [
        "import torch\n",
        "import torch.nn.functional as F\n",
        "from torchvision import datasets,transforms\n",
        "from torch import nn\n",
        "import matplotlib.pyplot as plt\n",
        "import numpy as np\n",
        "\n",
        "transform_train = transforms.Compose([transforms.Resize((32,32)),  #resises the image so it can be perfect for our model.\n",
        "                                      transforms.RandomHorizontalFlip(), # FLips the image w.r.t horizontal axis\n",
        "                                      transforms.RandomRotation(10),     #Rotates the image to a specified angel\n",
        "                                      transforms.RandomAffine(0, shear=10, scale=(0.8,1.2)), #Performs actions like zooms, change shear angles.\n",
        "                                      transforms.ColorJitter(brightness=0.2, contrast=0.2, saturation=0.2), # Set the color params\n",
        "                                      transforms.ToTensor(), # comvert the image to tensor so that it can work with torch\n",
        "                                      transforms.Normalize((0.5, 0.5, 0.5), (0.5, 0.5, 0.5)) #Normalize all the images\n",
        "                               ])\n",
        " \n",
        " \n",
        "transform = transforms.Compose([transforms.Resize((32,32)),\n",
        "                               transforms.ToTensor(),\n",
        "                               transforms.Normalize((0.5, 0.5, 0.5), (0.5, 0.5, 0.5))\n",
        "                               ])\n",
        "\n",
        "\n",
        "\n",
        "train_dataset = datasets.CIFAR10(root='./data', train=True, download=True, transform=transform_train) # Data augmentation is only done on training images\n",
        "first_indices = list(range(100))\n",
        "Xtrain = torch.utils.data.Subset(train_dataset, first_indices)\n",
        "Xtrain_loader = torch.utils.data.DataLoader(Xtrain, batch_size=10, shuffle=True)\n",
        "\n",
        "second_indices = list(range(100, len(train_dataset)))\n",
        "X = torch.utils.data.Subset(train_dataset, second_indices)\n",
        "X_loader = torch.utils.data.DataLoader(X, batch_size=10, shuffle=True)\n",
        "\n",
        "test_dataset = datasets.CIFAR10(root='./data', train=False, download=True, transform=transform) \n",
        "Xtest_loader = torch.utils.data.DataLoader(test_dataset, batch_size = 10, shuffle=False)"
      ]
    },
    {
      "cell_type": "code",
      "source": [
        "device = torch.device(\"cuda\" if torch.cuda.is_available() else \"cpu\")\n",
        "# Create the CNN model\n",
        "model = Net().to(device)\n",
        "# Define the loss function and optimizer\n",
        "criterion = nn.CrossEntropyLoss()\n",
        "optimizer = optim.SGD(model.parameters(), lr=0.1)\n",
        "# Define the learning rate scheduler\n",
        "scheduler = StepLR(optimizer, step_size=30, gamma=0.1)\n",
        "# Train the model for the specified number of epochs\n",
        "num_epochs = 100\n",
        "\n",
        "# Train CNN\n",
        "for epoch in range(num_epochs):  # loop over the dataset multiple times\n",
        "    running_loss = 0.0\n",
        "    correct = 0\n",
        "    total = 0\n",
        "    for i, data in enumerate(Xtrain_loader, 0):\n",
        "        # Get the inputs; data is a list of [inputs, labels]\n",
        "        inputs, labels = data\n",
        "        # Zero the parameter gradients\n",
        "        optimizer.zero_grad()\n",
        "        # Forward + backward + optimize\n",
        "        outputs = model(inputs)\n",
        "        loss = criterion(outputs, labels)\n",
        "        loss.backward()\n",
        "        optimizer.step()\n",
        "        # Calculate the running loss and accuracy\n",
        "        running_loss += loss.item()\n",
        "        _, predicted = torch.max(outputs.data, 1)\n",
        "        total += labels.size(0)\n",
        "        correct += (predicted == labels).sum().item()\n",
        "    scheduler.step()\n",
        "    # Print statistics\n",
        "    print('Epoch %d, Loss: %.3f, Accuracy: %.3f%%' %\n",
        "          (epoch + 1, running_loss / len(Xtrain_loader),\n",
        "           100 * correct / total))\n",
        "    \n",
        "# Evaluate the model on the test set\n",
        "correct = 0\n",
        "total = 0\n",
        "with torch.no_grad():\n",
        "    for data in Xtest_loader:\n",
        "        images, labels = data\n",
        "        outputs = model(images)\n",
        "        _, predicted = torch.max(outputs.data, 1)\n",
        "        total += labels.size(0)\n",
        "        correct += (predicted == labels).sum().item()\n",
        "print('Accuracy of the network on the %d test images: %d %%' % (len(Xtest_loader.dataset), 100 * correct / total))"
      ],
      "metadata": {
        "colab": {
          "base_uri": "https://localhost:8080/"
        },
        "id": "hZ9CIcVFT389",
        "outputId": "e615c305-a024-40e7-9037-179e2c565a71"
      },
      "execution_count": null,
      "outputs": [
        {
          "output_type": "stream",
          "name": "stdout",
          "text": [
            "Epoch 1, Loss: 2.295, Accuracy: 11.000%\n",
            "Epoch 2, Loss: 2.262, Accuracy: 16.000%\n",
            "Epoch 3, Loss: 2.264, Accuracy: 14.000%\n",
            "Epoch 4, Loss: 2.244, Accuracy: 16.000%\n",
            "Epoch 5, Loss: 2.226, Accuracy: 19.000%\n",
            "Epoch 6, Loss: 2.219, Accuracy: 14.000%\n",
            "Epoch 7, Loss: 2.228, Accuracy: 20.000%\n",
            "Epoch 8, Loss: 2.194, Accuracy: 19.000%\n",
            "Epoch 9, Loss: 2.159, Accuracy: 26.000%\n",
            "Epoch 10, Loss: 2.163, Accuracy: 25.000%\n",
            "Epoch 11, Loss: 2.131, Accuracy: 25.000%\n",
            "Epoch 12, Loss: 2.032, Accuracy: 24.000%\n",
            "Epoch 13, Loss: 2.079, Accuracy: 27.000%\n",
            "Epoch 14, Loss: 2.050, Accuracy: 22.000%\n",
            "Epoch 15, Loss: 1.961, Accuracy: 31.000%\n",
            "Epoch 16, Loss: 1.900, Accuracy: 35.000%\n",
            "Epoch 17, Loss: 1.889, Accuracy: 33.000%\n",
            "Epoch 18, Loss: 1.898, Accuracy: 35.000%\n",
            "Epoch 19, Loss: 1.975, Accuracy: 37.000%\n",
            "Epoch 20, Loss: 1.781, Accuracy: 37.000%\n",
            "Epoch 21, Loss: 1.813, Accuracy: 36.000%\n",
            "Epoch 22, Loss: 1.647, Accuracy: 41.000%\n",
            "Epoch 23, Loss: 1.633, Accuracy: 41.000%\n",
            "Epoch 24, Loss: 1.610, Accuracy: 43.000%\n",
            "Epoch 25, Loss: 1.608, Accuracy: 40.000%\n",
            "Epoch 26, Loss: 1.722, Accuracy: 42.000%\n",
            "Epoch 27, Loss: 1.513, Accuracy: 49.000%\n",
            "Epoch 28, Loss: 1.429, Accuracy: 50.000%\n",
            "Epoch 29, Loss: 1.420, Accuracy: 51.000%\n",
            "Epoch 30, Loss: 1.222, Accuracy: 64.000%\n",
            "Epoch 31, Loss: 0.925, Accuracy: 67.000%\n",
            "Epoch 32, Loss: 0.824, Accuracy: 72.000%\n",
            "Epoch 33, Loss: 0.745, Accuracy: 76.000%\n",
            "Epoch 34, Loss: 0.759, Accuracy: 75.000%\n",
            "Epoch 35, Loss: 0.732, Accuracy: 73.000%\n",
            "Epoch 36, Loss: 0.757, Accuracy: 74.000%\n",
            "Epoch 37, Loss: 0.687, Accuracy: 73.000%\n",
            "Epoch 38, Loss: 0.673, Accuracy: 76.000%\n",
            "Epoch 39, Loss: 0.670, Accuracy: 81.000%\n",
            "Epoch 40, Loss: 0.629, Accuracy: 82.000%\n",
            "Epoch 41, Loss: 0.708, Accuracy: 74.000%\n",
            "Epoch 42, Loss: 0.629, Accuracy: 73.000%\n",
            "Epoch 43, Loss: 0.525, Accuracy: 84.000%\n",
            "Epoch 44, Loss: 0.607, Accuracy: 80.000%\n",
            "Epoch 45, Loss: 0.517, Accuracy: 85.000%\n",
            "Epoch 46, Loss: 0.507, Accuracy: 85.000%\n",
            "Epoch 47, Loss: 0.475, Accuracy: 86.000%\n",
            "Epoch 48, Loss: 0.535, Accuracy: 80.000%\n",
            "Epoch 49, Loss: 0.499, Accuracy: 84.000%\n",
            "Epoch 50, Loss: 0.484, Accuracy: 88.000%\n",
            "Epoch 51, Loss: 0.503, Accuracy: 84.000%\n",
            "Epoch 52, Loss: 0.388, Accuracy: 87.000%\n",
            "Epoch 53, Loss: 0.390, Accuracy: 88.000%\n",
            "Epoch 54, Loss: 0.413, Accuracy: 89.000%\n",
            "Epoch 55, Loss: 0.410, Accuracy: 85.000%\n",
            "Epoch 56, Loss: 0.428, Accuracy: 86.000%\n",
            "Epoch 57, Loss: 0.372, Accuracy: 92.000%\n",
            "Epoch 58, Loss: 0.396, Accuracy: 85.000%\n",
            "Epoch 59, Loss: 0.381, Accuracy: 89.000%\n",
            "Epoch 60, Loss: 0.363, Accuracy: 89.000%\n",
            "Epoch 61, Loss: 0.405, Accuracy: 88.000%\n",
            "Epoch 62, Loss: 0.292, Accuracy: 92.000%\n",
            "Epoch 63, Loss: 0.348, Accuracy: 90.000%\n",
            "Epoch 64, Loss: 0.329, Accuracy: 91.000%\n",
            "Epoch 65, Loss: 0.306, Accuracy: 92.000%\n",
            "Epoch 66, Loss: 0.335, Accuracy: 91.000%\n",
            "Epoch 67, Loss: 0.293, Accuracy: 92.000%\n",
            "Epoch 68, Loss: 0.350, Accuracy: 90.000%\n",
            "Epoch 69, Loss: 0.305, Accuracy: 94.000%\n",
            "Epoch 70, Loss: 0.254, Accuracy: 95.000%\n",
            "Epoch 71, Loss: 0.349, Accuracy: 94.000%\n",
            "Epoch 72, Loss: 0.332, Accuracy: 90.000%\n",
            "Epoch 73, Loss: 0.295, Accuracy: 94.000%\n",
            "Epoch 74, Loss: 0.262, Accuracy: 94.000%\n",
            "Epoch 75, Loss: 0.314, Accuracy: 89.000%\n",
            "Epoch 76, Loss: 0.274, Accuracy: 94.000%\n",
            "Epoch 77, Loss: 0.237, Accuracy: 94.000%\n",
            "Epoch 78, Loss: 0.296, Accuracy: 86.000%\n",
            "Epoch 79, Loss: 0.330, Accuracy: 92.000%\n",
            "Epoch 80, Loss: 0.318, Accuracy: 92.000%\n",
            "Epoch 81, Loss: 0.297, Accuracy: 91.000%\n",
            "Epoch 82, Loss: 0.341, Accuracy: 89.000%\n",
            "Epoch 83, Loss: 0.328, Accuracy: 90.000%\n",
            "Epoch 84, Loss: 0.285, Accuracy: 91.000%\n",
            "Epoch 85, Loss: 0.310, Accuracy: 93.000%\n",
            "Epoch 86, Loss: 0.301, Accuracy: 93.000%\n",
            "Epoch 87, Loss: 0.289, Accuracy: 95.000%\n",
            "Epoch 88, Loss: 0.304, Accuracy: 91.000%\n",
            "Epoch 89, Loss: 0.294, Accuracy: 91.000%\n",
            "Epoch 90, Loss: 0.238, Accuracy: 96.000%\n",
            "Epoch 91, Loss: 0.260, Accuracy: 94.000%\n",
            "Epoch 92, Loss: 0.237, Accuracy: 96.000%\n",
            "Epoch 93, Loss: 0.303, Accuracy: 93.000%\n",
            "Epoch 94, Loss: 0.267, Accuracy: 95.000%\n",
            "Epoch 95, Loss: 0.254, Accuracy: 94.000%\n",
            "Epoch 96, Loss: 0.216, Accuracy: 97.000%\n",
            "Epoch 97, Loss: 0.270, Accuracy: 94.000%\n",
            "Epoch 98, Loss: 0.295, Accuracy: 93.000%\n",
            "Epoch 99, Loss: 0.283, Accuracy: 93.000%\n",
            "Epoch 100, Loss: 0.255, Accuracy: 91.000%\n",
            "Accuracy of the network on the 10000 test images: 24 %\n"
          ]
        }
      ]
    },
    {
      "cell_type": "markdown",
      "source": [
        "| Model | Number of  epochs  | Train accuracy | Test accuracy |\n",
        "|------|------|------|------|\n",
        "|   base_model with fine data_augmentation  | 100 | 91% | 24% |"
      ],
      "metadata": {
        "id": "b33i902vWegh"
      }
    },
    {
      "cell_type": "markdown",
      "metadata": {
        "id": "HRUA5I8N_2hk"
      },
      "source": [
        "# Conclusions"
      ]
    },
    {
      "cell_type": "markdown",
      "metadata": {
        "id": "RmyiWAPJ_2hl"
      },
      "source": [
        "__Question 7 (5 points) :__ Write a short report explaining the pros and the cons of each method that you implemented. 25% of the grade of this project will correspond to this question, thus, it should be done carefully. In particular, please add a plot that will summarize all your numerical results."
      ]
    },
    {
      "cell_type": "markdown",
      "metadata": {
        "id": "zJ-v4Nev_2hl"
      },
      "source": [
        "First method we implemented is using 3 convolutional layers, 1 maxpooling layer and 2 fully connected layers. As the result showed, the accuracy on training data could reach 73% with 100 epochs while it is 24% on test dataset. \\\n",
        "\\\n",
        "With ResNet's structured approach, we initially tried using only 10-epoch training sessions, but got significantly worse results than the previous baseline model. Later, we adjusted to the same epochs and got a slight improvement but no better performance on the test data.\\\n",
        "\\\n",
        "As for transfer learning, we chose the architecture of ResNet50 and the trained parameters, froze all layers except the last fully connected layer, and changed the last layer into our self-defined structure and put in data training. Again, the epoch 10 exercise didn't work out well, so we adjusted it again to 100. Even this time, the accuracy on the training set did not improve, and the performance was far from ideal. \n",
        "\n",
        "From our perspectives,\n",
        "* primitive CNN has the advantages that it took less time, the accuracy on training set can reach a less bad level. However, since we only trained with 100 images instead of large datasets, the result still has space to be improved. We assume it is because back propagation requires big amount of training data.\n",
        "* ResNet-18 is to address the gradient vanishing problem and it has less complexity. Because it is relatively small and efficient compared to deeper networks such as ResNet-50 or ResNet-101, it is easier to train and deploy on resource-constrained devices.  But, the architecture is not always adaptive to all kinds of tasks. And it tends to perform better when it is given numerous data, which probably can explain why it didn't achieve a good-looking state from our trials. Even though ResNet-18 uses skip connections, which allows gradients to flow back more easily during training, resulting in better convergence and faster training times, it didn't present more efficiency according to our results (from graph).\n",
        "* For transfer learning method, obviously, the advantage is having DNN model without inputting huge amount of training data. By standing on the shoulders of giants, we can adjust the well-trained model with much less data. But as it showed in our results, it actually happened that implementing transfer learning can lead to a poor performance. There are several potential reasons, such as source task is not highly relevant to target task, or transfering method is not sufficiently appropriate. It is also important to quantify the amount of transfer that affects the quality and feasibility of transfer in transfer learning. This is one of challenges of implementing the technique."
      ]
    },
    {
      "cell_type": "code",
      "source": [
        "import time\n",
        "\n",
        "def numerical_result(model, num_epochs):\n",
        "    epoch_training_time = []\n",
        "    epoch_trainset_accuracy = []\n",
        "    epoch_testset_accuracy = []\n",
        "    criterion = nn.CrossEntropyLoss()\n",
        "    optimizer = optim.SGD(model.parameters(), lr=0.1)\n",
        "    scheduler = StepLR(optimizer, step_size=30, gamma=0.1)   \n",
        "    for epoch in range(num_epochs):  # loop over the dataset multiple times\n",
        "        running_loss = 0.0\n",
        "        correct_train = 0\n",
        "        total_train = 0\n",
        "\n",
        "        correct_test = 0\n",
        "        total_test = 0\n",
        "\n",
        "        train_start = time.time()\n",
        "        for i, data in enumerate(Xtrain_loader, 0):\n",
        "            # Get the inputs; data is a list of [inputs, labels]\n",
        "            inputs, labels = data\n",
        "            # Zero the parameter gradients\n",
        "            optimizer.zero_grad()\n",
        "            # Forward + backward + optimize\n",
        "            outputs = model(inputs)\n",
        "            loss = criterion(outputs, labels)\n",
        "            loss.backward()\n",
        "            optimizer.step()\n",
        "            # Calculate the running loss and accuracy\n",
        "            running_loss += loss.item()\n",
        "            _, predicted = torch.max(outputs.data, 1)\n",
        "            total_train += labels.size(0)\n",
        "            correct_train += (predicted == labels).sum().item()\n",
        "        scheduler.step()\n",
        "        # Print statistics\n",
        "        train_end = time.time()\n",
        "        epoch_training_time.append(train_end-train_start)\n",
        "\n",
        "        print('Epoch %d, Loss: %.3f, Accuracy: %.3f%%' %(epoch + 1, running_loss / len(Xtrain_loader),100 * correct_train / total_train))\n",
        "        epoch_trainset_accuracy.append(100 * correct_train / total_train)\n",
        "\n",
        "        with torch.no_grad():\n",
        "            for data in Xtest_loader:\n",
        "                images, labels = data\n",
        "                outputs = model(images)\n",
        "                _, predicted = torch.max(outputs.data, 1)\n",
        "                total_test += labels.size(0)\n",
        "                correct_test += (predicted == labels).sum().item()\n",
        "        print('Accuracy of the network on the %d test images: %d %%' % (len(Xtest_loader.dataset), 100 * correct_test / total_test))\n",
        "        epoch_testset_accuracy.append(100 * correct_test / total_test)\n",
        "\n",
        "\n",
        "    return epoch_training_time, epoch_trainset_accuracy, epoch_testset_accuracy "
      ],
      "metadata": {
        "id": "iyTFvdP7IHFD"
      },
      "execution_count": null,
      "outputs": []
    },
    {
      "cell_type": "code",
      "source": [
        "transform_train = transforms.Compose([\n",
        "    transforms.RandomCrop(32, padding=4),\n",
        "    transforms.RandomHorizontalFlip(),\n",
        "    transforms.ToTensor(),\n",
        "    transforms.Normalize((0.5, 0.5, 0.5), (0.5, 0.5, 0.5))\n",
        "])\n",
        "\n",
        "transform_test = transforms.Compose([\n",
        "    transforms.ToTensor(),\n",
        "    transforms.Normalize((0.5, 0.5, 0.5), (0.5, 0.5, 0.5))\n",
        "])\n",
        "\n",
        "train_dataset = datasets.CIFAR10(root='./data', train=True, download=True, transform=transform_train) # Data augmentation is only done on training images\n",
        "first_indices = list(range(100))\n",
        "Xtrain = torch.utils.data.Subset(train_dataset, first_indices)\n",
        "Xtrain_loader = torch.utils.data.DataLoader(Xtrain, batch_size=10, shuffle=True)\n",
        "\n",
        "second_indices = list(range(100, len(train_dataset)))\n",
        "X = torch.utils.data.Subset(train_dataset, second_indices)\n",
        "X_loader = torch.utils.data.DataLoader(X, batch_size=10, shuffle=True)\n",
        "\n",
        "\n",
        "import random\n",
        "\n",
        "\n",
        "test_dataset = datasets.CIFAR10(root='./data', train=False, download=True, transform=transform_test) \n",
        "random_indices = random.sample(list(range(len(test_dataset))), 100)\n",
        "test_dataset = torch.utils.data.Subset(test_dataset, random_indices)\n",
        "Xtest_loader = torch.utils.data.DataLoader(test_dataset, batch_size = 10, shuffle=False)\n",
        "\n",
        "device = torch.device(\"cuda\" if torch.cuda.is_available() else \"cpu\")\n",
        "num_epochs = 20\n",
        "\n",
        "base = Net().to(device)\n",
        "resnet18 = ResNet18().to(device)\n",
        "resnet50 = resnet50.to(device)\n",
        "\n",
        "base_epoch_training_time, base_epoch_trainset_accuracy, base_epoch_testset_accuracy = numerical_result(base, num_epochs)\n",
        "resnet18_epoch_training_time, resnet18_epoch_trainset_accuracy, resnet18_epoch_testset_accuracy = numerical_result(resnet18, num_epochs)\n",
        "resnet50_epoch_training_time, resnet50_epoch_trainset_accuracy, resnet50_epoch_testset_accuracy = numerical_result(resnet50, num_epochs)"
      ],
      "metadata": {
        "colab": {
          "base_uri": "https://localhost:8080/"
        },
        "id": "eas_PNRowJ2U",
        "outputId": "2f89bca1-4936-4112-c311-2e9e55d8ea25"
      },
      "execution_count": 32,
      "outputs": [
        {
          "output_type": "stream",
          "name": "stdout",
          "text": [
            "Files already downloaded and verified\n",
            "Files already downloaded and verified\n",
            "Epoch 1, Loss: 2.302, Accuracy: 9.000%\n",
            "Accuracy of the network on the 100 test images: 10 %\n",
            "Epoch 2, Loss: 2.270, Accuracy: 16.000%\n",
            "Accuracy of the network on the 100 test images: 10 %\n",
            "Epoch 3, Loss: 2.263, Accuracy: 15.000%\n",
            "Accuracy of the network on the 100 test images: 10 %\n",
            "Epoch 4, Loss: 2.242, Accuracy: 16.000%\n",
            "Accuracy of the network on the 100 test images: 10 %\n",
            "Epoch 5, Loss: 2.224, Accuracy: 15.000%\n",
            "Accuracy of the network on the 100 test images: 10 %\n",
            "Epoch 6, Loss: 2.231, Accuracy: 16.000%\n",
            "Accuracy of the network on the 100 test images: 14 %\n",
            "Epoch 7, Loss: 2.202, Accuracy: 19.000%\n",
            "Accuracy of the network on the 100 test images: 10 %\n",
            "Epoch 8, Loss: 2.185, Accuracy: 19.000%\n",
            "Accuracy of the network on the 100 test images: 13 %\n",
            "Epoch 9, Loss: 2.165, Accuracy: 18.000%\n",
            "Accuracy of the network on the 100 test images: 10 %\n",
            "Epoch 10, Loss: 2.163, Accuracy: 19.000%\n",
            "Accuracy of the network on the 100 test images: 12 %\n",
            "Epoch 11, Loss: 2.123, Accuracy: 26.000%\n",
            "Accuracy of the network on the 100 test images: 17 %\n",
            "Epoch 12, Loss: 2.094, Accuracy: 26.000%\n",
            "Accuracy of the network on the 100 test images: 13 %\n",
            "Epoch 13, Loss: 2.164, Accuracy: 20.000%\n",
            "Accuracy of the network on the 100 test images: 21 %\n",
            "Epoch 14, Loss: 2.063, Accuracy: 30.000%\n",
            "Accuracy of the network on the 100 test images: 12 %\n",
            "Epoch 15, Loss: 2.020, Accuracy: 24.000%\n",
            "Accuracy of the network on the 100 test images: 21 %\n",
            "Epoch 16, Loss: 2.005, Accuracy: 30.000%\n",
            "Accuracy of the network on the 100 test images: 17 %\n",
            "Epoch 17, Loss: 2.049, Accuracy: 29.000%\n",
            "Accuracy of the network on the 100 test images: 17 %\n",
            "Epoch 18, Loss: 1.938, Accuracy: 32.000%\n",
            "Accuracy of the network on the 100 test images: 16 %\n",
            "Epoch 19, Loss: 1.954, Accuracy: 29.000%\n",
            "Accuracy of the network on the 100 test images: 24 %\n",
            "Epoch 20, Loss: 1.879, Accuracy: 23.000%\n",
            "Accuracy of the network on the 100 test images: 28 %\n",
            "Epoch 1, Loss: 7.063, Accuracy: 7.000%\n",
            "Accuracy of the network on the 100 test images: 9 %\n",
            "Epoch 2, Loss: 3.293, Accuracy: 10.000%\n",
            "Accuracy of the network on the 100 test images: 4 %\n",
            "Epoch 3, Loss: 2.542, Accuracy: 12.000%\n",
            "Accuracy of the network on the 100 test images: 13 %\n",
            "Epoch 4, Loss: 2.449, Accuracy: 10.000%\n",
            "Accuracy of the network on the 100 test images: 14 %\n",
            "Epoch 5, Loss: 2.616, Accuracy: 9.000%\n",
            "Accuracy of the network on the 100 test images: 14 %\n",
            "Epoch 6, Loss: 2.219, Accuracy: 22.000%\n",
            "Accuracy of the network on the 100 test images: 10 %\n",
            "Epoch 7, Loss: 2.225, Accuracy: 16.000%\n",
            "Accuracy of the network on the 100 test images: 16 %\n",
            "Epoch 8, Loss: 2.294, Accuracy: 14.000%\n",
            "Accuracy of the network on the 100 test images: 10 %\n",
            "Epoch 9, Loss: 2.241, Accuracy: 17.000%\n",
            "Accuracy of the network on the 100 test images: 17 %\n",
            "Epoch 10, Loss: 2.082, Accuracy: 23.000%\n",
            "Accuracy of the network on the 100 test images: 16 %\n",
            "Epoch 11, Loss: 2.270, Accuracy: 19.000%\n",
            "Accuracy of the network on the 100 test images: 17 %\n",
            "Epoch 12, Loss: 2.116, Accuracy: 25.000%\n",
            "Accuracy of the network on the 100 test images: 7 %\n",
            "Epoch 13, Loss: 2.108, Accuracy: 26.000%\n",
            "Accuracy of the network on the 100 test images: 15 %\n",
            "Epoch 14, Loss: 2.033, Accuracy: 22.000%\n",
            "Accuracy of the network on the 100 test images: 22 %\n",
            "Epoch 15, Loss: 2.166, Accuracy: 21.000%\n",
            "Accuracy of the network on the 100 test images: 18 %\n",
            "Epoch 16, Loss: 1.953, Accuracy: 32.000%\n",
            "Accuracy of the network on the 100 test images: 16 %\n",
            "Epoch 17, Loss: 1.919, Accuracy: 30.000%\n",
            "Accuracy of the network on the 100 test images: 16 %\n",
            "Epoch 18, Loss: 1.941, Accuracy: 25.000%\n",
            "Accuracy of the network on the 100 test images: 15 %\n",
            "Epoch 19, Loss: 2.028, Accuracy: 28.000%\n",
            "Accuracy of the network on the 100 test images: 16 %\n",
            "Epoch 20, Loss: 1.948, Accuracy: 28.000%\n",
            "Accuracy of the network on the 100 test images: 19 %\n",
            "Epoch 1, Loss: 2.076, Accuracy: 23.000%\n",
            "Accuracy of the network on the 100 test images: 11 %\n",
            "Epoch 2, Loss: 2.103, Accuracy: 25.000%\n",
            "Accuracy of the network on the 100 test images: 14 %\n",
            "Epoch 3, Loss: 2.012, Accuracy: 28.000%\n",
            "Accuracy of the network on the 100 test images: 19 %\n",
            "Epoch 4, Loss: 2.008, Accuracy: 25.000%\n",
            "Accuracy of the network on the 100 test images: 16 %\n",
            "Epoch 5, Loss: 2.061, Accuracy: 23.000%\n",
            "Accuracy of the network on the 100 test images: 10 %\n",
            "Epoch 6, Loss: 2.040, Accuracy: 29.000%\n",
            "Accuracy of the network on the 100 test images: 22 %\n",
            "Epoch 7, Loss: 2.063, Accuracy: 28.000%\n",
            "Accuracy of the network on the 100 test images: 10 %\n",
            "Epoch 8, Loss: 2.158, Accuracy: 24.000%\n",
            "Accuracy of the network on the 100 test images: 9 %\n",
            "Epoch 9, Loss: 2.134, Accuracy: 21.000%\n",
            "Accuracy of the network on the 100 test images: 9 %\n",
            "Epoch 10, Loss: 2.047, Accuracy: 29.000%\n",
            "Accuracy of the network on the 100 test images: 9 %\n",
            "Epoch 11, Loss: 2.092, Accuracy: 28.000%\n",
            "Accuracy of the network on the 100 test images: 10 %\n",
            "Epoch 12, Loss: 2.016, Accuracy: 25.000%\n",
            "Accuracy of the network on the 100 test images: 12 %\n",
            "Epoch 13, Loss: 2.044, Accuracy: 20.000%\n",
            "Accuracy of the network on the 100 test images: 16 %\n",
            "Epoch 14, Loss: 2.067, Accuracy: 27.000%\n",
            "Accuracy of the network on the 100 test images: 11 %\n",
            "Epoch 15, Loss: 2.044, Accuracy: 25.000%\n",
            "Accuracy of the network on the 100 test images: 10 %\n",
            "Epoch 16, Loss: 2.080, Accuracy: 28.000%\n",
            "Accuracy of the network on the 100 test images: 18 %\n",
            "Epoch 17, Loss: 2.050, Accuracy: 32.000%\n",
            "Accuracy of the network on the 100 test images: 14 %\n",
            "Epoch 18, Loss: 1.955, Accuracy: 26.000%\n",
            "Accuracy of the network on the 100 test images: 9 %\n",
            "Epoch 19, Loss: 2.038, Accuracy: 27.000%\n",
            "Accuracy of the network on the 100 test images: 12 %\n",
            "Epoch 20, Loss: 1.997, Accuracy: 32.000%\n",
            "Accuracy of the network on the 100 test images: 18 %\n"
          ]
        }
      ]
    },
    {
      "cell_type": "code",
      "source": [
        "transform_train = transforms.Compose([transforms.Resize((32,32)),  #resises the image so it can be perfect for our model.\n",
        "                                      transforms.RandomHorizontalFlip(), # FLips the image w.r.t horizontal axis\n",
        "                                      transforms.RandomRotation(10),     #Rotates the image to a specified angel\n",
        "                                      transforms.RandomAffine(0, shear=10, scale=(0.8,1.2)), #Performs actions like zooms, change shear angles.\n",
        "                                      transforms.ColorJitter(brightness=0.2, contrast=0.2, saturation=0.2), # Set the color params\n",
        "                                      transforms.ToTensor(), # comvert the image to tensor so that it can work with torch\n",
        "                                      transforms.Normalize((0.5, 0.5, 0.5), (0.5, 0.5, 0.5)) #Normalize all the images\n",
        "                               ])\n",
        " \n",
        " \n",
        "transform = transforms.Compose([transforms.Resize((32,32)),\n",
        "                               transforms.ToTensor(),\n",
        "                               transforms.Normalize((0.5, 0.5, 0.5), (0.5, 0.5, 0.5))\n",
        "                               ])\n",
        "\n",
        "\n",
        "\n",
        "train_dataset = datasets.CIFAR10(root='./data', train=True, download=True, transform=transform_train) # Data augmentation is only done on training images\n",
        "first_indices = list(range(100))\n",
        "Xtrain = torch.utils.data.Subset(train_dataset, first_indices)\n",
        "Xtrain_loader = torch.utils.data.DataLoader(Xtrain, batch_size=10, shuffle=True)\n",
        "\n",
        "second_indices = list(range(100, len(train_dataset)))\n",
        "X = torch.utils.data.Subset(train_dataset, second_indices)\n",
        "X_loader = torch.utils.data.DataLoader(X, batch_size=10, shuffle=True)\n",
        "\n",
        "test_dataset = datasets.CIFAR10(root='./data', train=False, download=True, transform=transform_test) \n",
        "random_indices = random.sample(list(range(len(test_dataset))), 100)\n",
        "test_dataset = torch.utils.data.Subset(test_dataset, random_indices)\n",
        "Xtest_loader = torch.utils.data.DataLoader(test_dataset, batch_size = 10, shuffle=False)\n",
        "\n",
        "\n",
        "aug_base = Net().to(device)\n",
        "aug_base_epoch_training_time, aug_base_epoch_trainset_accuracy, aug_base_epoch_testset_accuracy = numerical_result(aug_base, num_epochs)"
      ],
      "metadata": {
        "id": "l_UCZZBMxrQM",
        "colab": {
          "base_uri": "https://localhost:8080/"
        },
        "outputId": "f5350cc2-a258-4e6b-edb7-3b9011da6eea"
      },
      "execution_count": 21,
      "outputs": [
        {
          "output_type": "stream",
          "name": "stdout",
          "text": [
            "Files already downloaded and verified\n",
            "Files already downloaded and verified\n",
            "Epoch 1, Loss: 2.301, Accuracy: 10.000%\n",
            "Accuracy of the network on the 100 test images: 8 %\n",
            "Epoch 2, Loss: 2.270, Accuracy: 14.000%\n",
            "Accuracy of the network on the 100 test images: 8 %\n",
            "Epoch 3, Loss: 2.264, Accuracy: 16.000%\n",
            "Accuracy of the network on the 100 test images: 8 %\n",
            "Epoch 4, Loss: 2.249, Accuracy: 14.000%\n",
            "Accuracy of the network on the 100 test images: 8 %\n",
            "Epoch 5, Loss: 2.236, Accuracy: 16.000%\n",
            "Accuracy of the network on the 100 test images: 8 %\n",
            "Epoch 6, Loss: 2.240, Accuracy: 15.000%\n",
            "Accuracy of the network on the 100 test images: 8 %\n",
            "Epoch 7, Loss: 2.223, Accuracy: 16.000%\n",
            "Accuracy of the network on the 100 test images: 8 %\n",
            "Epoch 8, Loss: 2.233, Accuracy: 16.000%\n",
            "Accuracy of the network on the 100 test images: 8 %\n",
            "Epoch 9, Loss: 2.174, Accuracy: 18.000%\n",
            "Accuracy of the network on the 100 test images: 12 %\n",
            "Epoch 10, Loss: 2.175, Accuracy: 19.000%\n",
            "Accuracy of the network on the 100 test images: 10 %\n",
            "Epoch 11, Loss: 2.118, Accuracy: 29.000%\n",
            "Accuracy of the network on the 100 test images: 10 %\n",
            "Epoch 12, Loss: 2.104, Accuracy: 25.000%\n",
            "Accuracy of the network on the 100 test images: 14 %\n",
            "Epoch 13, Loss: 2.047, Accuracy: 26.000%\n",
            "Accuracy of the network on the 100 test images: 11 %\n",
            "Epoch 14, Loss: 2.072, Accuracy: 26.000%\n",
            "Accuracy of the network on the 100 test images: 13 %\n",
            "Epoch 15, Loss: 2.017, Accuracy: 26.000%\n",
            "Accuracy of the network on the 100 test images: 10 %\n",
            "Epoch 16, Loss: 2.093, Accuracy: 26.000%\n",
            "Accuracy of the network on the 100 test images: 22 %\n",
            "Epoch 17, Loss: 2.105, Accuracy: 27.000%\n",
            "Accuracy of the network on the 100 test images: 15 %\n",
            "Epoch 18, Loss: 2.041, Accuracy: 28.000%\n",
            "Accuracy of the network on the 100 test images: 16 %\n",
            "Epoch 19, Loss: 1.979, Accuracy: 28.000%\n",
            "Accuracy of the network on the 100 test images: 16 %\n",
            "Epoch 20, Loss: 2.057, Accuracy: 25.000%\n",
            "Accuracy of the network on the 100 test images: 18 %\n"
          ]
        }
      ]
    },
    {
      "cell_type": "code",
      "source": [
        "from matplotlib import pyplot as plt\n",
        "x = list(range(1,21))\n",
        "plt.figure(figsize = (15,8))\n",
        "plt.subplot(3,1,1)\n",
        "plt.title('training time')\n",
        "plt.xlabel('epoch')\n",
        "plt.ylabel('ms')\n",
        "plt.plot(x, base_epoch_training_time, 'ro-', x, resnet18_epoch_training_time, 'g+-', x, resnet50_epoch_training_time, 'b^-',x, aug_base_epoch_training_time, 'y*-')\n",
        "plt.legend()\n",
        "\n",
        "plt.subplot(3,1,2)\n",
        "plt.title('trainset accuracy')\n",
        "plt.xlabel('epoch')\n",
        "plt.ylabel('ms')\n",
        "plt.plot(x, base_epoch_trainset_accuracy, 'ro-', x, resnet18_epoch_trainset_accuracy, 'g+-', x, resnet50_epoch_trainset_accuracy, 'b^-',x, aug_base_epoch_trainset_accuracy, 'y*-')\n",
        "plt.legend()\n",
        "\n",
        "plt.subplot(3,1,3)\n",
        "plt.title('testset accuracy')\n",
        "plt.xlabel('epoch')\n",
        "plt.ylabel('ms')\n",
        "plt.plot(x, base_epoch_testset_accuracy, 'ro-', x, resnet18_epoch_testset_accuracy, 'g+-', x, resnet50_epoch_testset_accuracy, 'b^-',x, aug_base_epoch_testset_accuracy, 'y*-')\n",
        "plt.legend()"
      ],
      "metadata": {
        "id": "ypZgkQxb-QlO",
        "colab": {
          "base_uri": "https://localhost:8080/",
          "height": 604
        },
        "outputId": "a2c1ace6-0b7c-4fe5-f6f6-0e40d0282428"
      },
      "execution_count": 38,
      "outputs": [
        {
          "output_type": "stream",
          "name": "stderr",
          "text": [
            "WARNING:matplotlib.legend:No artists with labels found to put in legend.  Note that artists whose label start with an underscore are ignored when legend() is called with no argument.\n",
            "WARNING:matplotlib.legend:No artists with labels found to put in legend.  Note that artists whose label start with an underscore are ignored when legend() is called with no argument.\n",
            "WARNING:matplotlib.legend:No artists with labels found to put in legend.  Note that artists whose label start with an underscore are ignored when legend() is called with no argument.\n"
          ]
        },
        {
          "output_type": "execute_result",
          "data": {
            "text/plain": [
              "<matplotlib.legend.Legend at 0x7ffa57e2d580>"
            ]
          },
          "metadata": {},
          "execution_count": 38
        },
        {
          "output_type": "display_data",
          "data": {
            "text/plain": [
              "<Figure size 1080x576 with 3 Axes>"
            ],
            "image/png": "[encoded data removed]"
          },
          "metadata": {
            "needs_background": "light"
          }
        }
      ]
    },
    {
      "cell_type": "markdown",
      "source": [
        "We can tell from the first graph that 2 CNN models run relatively faster comparing with ResNet models no matter implemented transfer learnign or not. For second one, it shows the trend that as more epochs are put in, the higher accuracy the models are likely to have. But the red one, base model, actually has a decline at the end. What is the interesting finding is that when it comes to the accuracy on test dataset, the red one shows an increase along with epochs. And the rest three model are providing the almost same output for test dataset."
      ],
      "metadata": {
        "id": "7_dPsMHYUMPb"
      }
    },
    {
      "cell_type": "markdown",
      "source": [
        "# Weak supervision"
      ],
      "metadata": {
        "id": "Es3vQe8USkwR"
      }
    },
    {
      "cell_type": "markdown",
      "source": [
        "__Bonus \\[open\\] question (up to 3 points) :__ Pick a weakly supervised method that will potentially use $\\mathcal{X}\\cup\\mathcal{X}_{\\text{train}}$ to train a representation (a subset of $\\mathcal{X}$ is also fine). Evaluate it and report the accuracies. You should be careful in the choice of your method, in order to avoid heavy computational effort."
      ],
      "metadata": {
        "id": "if0i3uy6SpPJ"
      }
    },
    {
      "cell_type": "markdown",
      "metadata": {
        "id": "rbjhfIvN_2hl"
      },
      "source": []
    },
    {
      "cell_type": "code",
      "source": [
        "import torch\n",
        "import torch.nn as nn\n",
        "import torch.optim as optim\n",
        "import torchvision.transforms as transforms\n",
        "import torchvision.datasets as datasets\n",
        "\n",
        "# Define the transforms to be applied to the data\n",
        "transform_train = transforms.Compose([\n",
        "    transforms.RandomCrop(32, padding=4),\n",
        "    transforms.RandomHorizontalFlip(),\n",
        "    transforms.ToTensor(),\n",
        "    transforms.Normalize(mean=[0.5, 0.5, 0.5], std=[0.5, 0.5, 0.5])\n",
        "])\n",
        "\n",
        "# Define the function to compute the weak labels\n",
        "def weak_labels(target):\n",
        "    return torch.randint(low=0, high=10, size=(1,)).item()\n",
        "\n",
        "# Load the CIFAR-10 dataset with weak labels\n",
        "train_dataset = datasets.CIFAR10(root='./data', train=True, download=True, transform=transform_train, target_transform=weak_labels)\n",
        "\n",
        "# Define the weakly supervised classifier\n",
        "class WeaklySupervisedClassifier(nn.Module):\n",
        "    def __init__(self):\n",
        "        super(WeaklySupervisedClassifier, self).__init__()\n",
        "        self.conv1 = nn.Conv2d(3, 32, kernel_size=3, padding=1)\n",
        "        self.conv2 = nn.Conv2d(32, 64, kernel_size=3, padding=1)\n",
        "        self.conv3 = nn.Conv2d(64, 128, kernel_size=3, padding=1)\n",
        "        self.pool = nn.MaxPool2d(2, 2)\n",
        "        self.fc1 = nn.Linear(128 * 8 * 8, 512)\n",
        "        self.fc2 = nn.Linear(512, 10)\n",
        "\n",
        "    def forward(self, x):\n",
        "        x = self.pool(nn.functional.relu(self.conv1(x)))\n",
        "        x = self.pool(nn.functional.relu(self.conv2(x)))\n",
        "        x = self.pool(nn.functional.relu(self.conv3(x)))\n",
        "        x = x.view(-1, 128 * 8 * 8)\n",
        "        x = nn.functional.relu(self.fc1(x))\n",
        "        x = self.fc2(x)\n",
        "        return x\n",
        "\n",
        "\n",
        "\n",
        "# Instantiate the weakly supervised classifier\n",
        "classifier = WeaklySupervisedClassifier()\n",
        "\n",
        "# Define the loss function and optimizer\n",
        "criterion = nn.CrossEntropyLoss()\n",
        "optimizer = optim.Adam(classifier.parameters(), lr=0.001)\n",
        "\n",
        "# Train the classifier\n",
        "for epoch in range(10):\n",
        "    running_loss = 0.0\n",
        "    for i, (inputs, targets) in enumerate(train_dataset):\n",
        "        optimizer.zero_grad()\n",
        "        outputs = classifier(inputs.unsqueeze(0))\n",
        "        loss = criterion(outputs, targets.unsqueeze(0))\n",
        "        loss.backward()\n",
        "        optimizer.step()\n",
        "        running_loss += loss.item()\n",
        "        if i % 100 == 99:\n",
        "            print('[%d, %5d] loss: %.3f' % (epoch + 1, i + 1, running_loss / 100))\n",
        "            running_loss = 0.0\n"
      ],
      "metadata": {
        "id": "YERkx3O0VKhw"
      },
      "execution_count": 54,
      "outputs": []
    }
  ],
  "metadata": {
    "kernelspec": {
      "display_name": "Python 3",
      "language": "python",
      "name": "python3"
    },
    "language_info": {
      "codemirror_mode": {
        "name": "ipython",
        "version": 3
      },
      "file_extension": ".py",
      "mimetype": "text/x-python",
      "name": "python",
      "nbconvert_exporter": "python",
      "pygments_lexer": "ipython3",
      "version": "3.7.9"
    },
    "colab": {
      "provenance": []
    }
  },
  "nbformat": 4,
  "nbformat_minor": 0
}